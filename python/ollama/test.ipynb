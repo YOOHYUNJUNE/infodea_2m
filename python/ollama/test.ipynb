{
 "cells": [
  {
   "cell_type": "code",
   "execution_count": 2,
   "metadata": {},
   "outputs": [
    {
     "name": "stdout",
     "output_type": "stream",
     "text": [
      "Collecting transformers\n",
      "  Downloading transformers-4.49.0-py3-none-any.whl.metadata (44 kB)\n",
      "Requirement already satisfied: filelock in c:\\users\\infodea nb510\\appdata\\local\\programs\\python\\python313\\lib\\site-packages (from transformers) (3.17.0)\n",
      "Requirement already satisfied: huggingface-hub<1.0,>=0.26.0 in c:\\users\\infodea nb510\\appdata\\local\\programs\\python\\python313\\lib\\site-packages (from transformers) (0.29.3)\n",
      "Requirement already satisfied: numpy>=1.17 in c:\\users\\infodea nb510\\appdata\\local\\programs\\python\\python313\\lib\\site-packages (from transformers) (2.2.3)\n",
      "Requirement already satisfied: packaging>=20.0 in c:\\users\\infodea nb510\\appdata\\roaming\\python\\python313\\site-packages (from transformers) (24.2)\n",
      "Requirement already satisfied: pyyaml>=5.1 in c:\\users\\infodea nb510\\appdata\\local\\programs\\python\\python313\\lib\\site-packages (from transformers) (6.0.2)\n",
      "Requirement already satisfied: regex!=2019.12.17 in c:\\users\\infodea nb510\\appdata\\local\\programs\\python\\python313\\lib\\site-packages (from transformers) (2024.11.6)\n",
      "Requirement already satisfied: requests in c:\\users\\infodea nb510\\appdata\\local\\programs\\python\\python313\\lib\\site-packages (from transformers) (2.32.3)\n",
      "Collecting tokenizers<0.22,>=0.21 (from transformers)\n",
      "  Downloading tokenizers-0.21.0-cp39-abi3-win_amd64.whl.metadata (6.9 kB)\n",
      "Collecting safetensors>=0.4.1 (from transformers)\n",
      "  Downloading safetensors-0.5.3-cp38-abi3-win_amd64.whl.metadata (3.9 kB)\n",
      "Requirement already satisfied: tqdm>=4.27 in c:\\users\\infodea nb510\\appdata\\local\\programs\\python\\python313\\lib\\site-packages (from transformers) (4.67.1)\n",
      "Requirement already satisfied: fsspec>=2023.5.0 in c:\\users\\infodea nb510\\appdata\\local\\programs\\python\\python313\\lib\\site-packages (from huggingface-hub<1.0,>=0.26.0->transformers) (2025.3.0)\n",
      "Requirement already satisfied: typing-extensions>=3.7.4.3 in c:\\users\\infodea nb510\\appdata\\local\\programs\\python\\python313\\lib\\site-packages (from huggingface-hub<1.0,>=0.26.0->transformers) (4.12.2)\n",
      "Requirement already satisfied: colorama in c:\\users\\infodea nb510\\appdata\\roaming\\python\\python313\\site-packages (from tqdm>=4.27->transformers) (0.4.6)\n",
      "Requirement already satisfied: charset-normalizer<4,>=2 in c:\\users\\infodea nb510\\appdata\\local\\programs\\python\\python313\\lib\\site-packages (from requests->transformers) (3.4.1)\n",
      "Requirement already satisfied: idna<4,>=2.5 in c:\\users\\infodea nb510\\appdata\\local\\programs\\python\\python313\\lib\\site-packages (from requests->transformers) (3.10)\n",
      "Requirement already satisfied: urllib3<3,>=1.21.1 in c:\\users\\infodea nb510\\appdata\\local\\programs\\python\\python313\\lib\\site-packages (from requests->transformers) (2.3.0)\n",
      "Requirement already satisfied: certifi>=2017.4.17 in c:\\users\\infodea nb510\\appdata\\local\\programs\\python\\python313\\lib\\site-packages (from requests->transformers) (2025.1.31)\n",
      "Downloading transformers-4.49.0-py3-none-any.whl (10.0 MB)\n",
      "   ---------------------------------------- 0.0/10.0 MB ? eta -:--:--\n",
      "   --------- ------------------------------ 2.4/10.0 MB 11.8 MB/s eta 0:00:01\n",
      "   ------------------- -------------------- 5.0/10.0 MB 11.8 MB/s eta 0:00:01\n",
      "   ----------------------------- ---------- 7.3/10.0 MB 11.7 MB/s eta 0:00:01\n",
      "   ------------------------------------- -- 9.4/10.0 MB 11.7 MB/s eta 0:00:01\n",
      "   ---------------------------------------- 10.0/10.0 MB 11.3 MB/s eta 0:00:00\n",
      "Downloading safetensors-0.5.3-cp38-abi3-win_amd64.whl (308 kB)\n",
      "Downloading tokenizers-0.21.0-cp39-abi3-win_amd64.whl (2.4 MB)\n",
      "   ---------------------------------------- 0.0/2.4 MB ? eta -:--:--\n",
      "   ----------------------------------- ---- 2.1/2.4 MB 11.7 MB/s eta 0:00:01\n",
      "   ---------------------------------------- 2.4/2.4 MB 10.0 MB/s eta 0:00:00\n",
      "Installing collected packages: safetensors, tokenizers, transformers\n",
      "Successfully installed safetensors-0.5.3 tokenizers-0.21.0 transformers-4.49.0\n",
      "Note: you may need to restart the kernel to use updated packages.\n"
     ]
    },
    {
     "name": "stderr",
     "output_type": "stream",
     "text": [
      "\n",
      "[notice] A new release of pip is available: 24.3.1 -> 25.0.1\n",
      "[notice] To update, run: python.exe -m pip install --upgrade pip\n"
     ]
    }
   ],
   "source": [
    "pip install transformers"
   ]
  },
  {
   "cell_type": "code",
   "execution_count": 3,
   "metadata": {},
   "outputs": [
    {
     "name": "stdout",
     "output_type": "stream",
     "text": [
      "Collecting torch\n",
      "  Downloading torch-2.6.0-cp313-cp313-win_amd64.whl.metadata (28 kB)\n",
      "Requirement already satisfied: filelock in c:\\users\\infodea nb510\\appdata\\local\\programs\\python\\python313\\lib\\site-packages (from torch) (3.17.0)\n",
      "Requirement already satisfied: typing-extensions>=4.10.0 in c:\\users\\infodea nb510\\appdata\\local\\programs\\python\\python313\\lib\\site-packages (from torch) (4.12.2)\n",
      "Collecting networkx (from torch)\n",
      "  Downloading networkx-3.4.2-py3-none-any.whl.metadata (6.3 kB)\n",
      "Collecting jinja2 (from torch)\n",
      "  Downloading jinja2-3.1.6-py3-none-any.whl.metadata (2.9 kB)\n",
      "Requirement already satisfied: fsspec in c:\\users\\infodea nb510\\appdata\\local\\programs\\python\\python313\\lib\\site-packages (from torch) (2025.3.0)\n",
      "Requirement already satisfied: setuptools in c:\\users\\infodea nb510\\appdata\\local\\programs\\python\\python313\\lib\\site-packages (from torch) (76.0.0)\n",
      "Collecting sympy==1.13.1 (from torch)\n",
      "  Downloading sympy-1.13.1-py3-none-any.whl.metadata (12 kB)\n",
      "Collecting mpmath<1.4,>=1.1.0 (from sympy==1.13.1->torch)\n",
      "  Downloading mpmath-1.3.0-py3-none-any.whl.metadata (8.6 kB)\n",
      "Collecting MarkupSafe>=2.0 (from jinja2->torch)\n",
      "  Downloading MarkupSafe-3.0.2-cp313-cp313-win_amd64.whl.metadata (4.1 kB)\n",
      "Downloading torch-2.6.0-cp313-cp313-win_amd64.whl (204.1 MB)\n",
      "   ---------------------------------------- 0.0/204.1 MB ? eta -:--:--\n",
      "   ---------------------------------------- 2.1/204.1 MB 11.5 MB/s eta 0:00:18\n",
      "    --------------------------------------- 4.5/204.1 MB 11.2 MB/s eta 0:00:18\n",
      "   - -------------------------------------- 6.8/204.1 MB 11.3 MB/s eta 0:00:18\n",
      "   - -------------------------------------- 8.9/204.1 MB 11.2 MB/s eta 0:00:18\n",
      "   -- ------------------------------------- 11.3/204.1 MB 11.3 MB/s eta 0:00:18\n",
      "   -- ------------------------------------- 13.9/204.1 MB 11.4 MB/s eta 0:00:17\n",
      "   --- ------------------------------------ 16.5/204.1 MB 11.4 MB/s eta 0:00:17\n",
      "   --- ------------------------------------ 17.3/204.1 MB 10.5 MB/s eta 0:00:18\n",
      "   --- ------------------------------------ 19.1/204.1 MB 10.5 MB/s eta 0:00:18\n",
      "   ---- ----------------------------------- 21.5/204.1 MB 10.4 MB/s eta 0:00:18\n",
      "   ---- ----------------------------------- 24.1/204.1 MB 10.5 MB/s eta 0:00:18\n",
      "   ----- ---------------------------------- 26.5/204.1 MB 10.6 MB/s eta 0:00:17\n",
      "   ----- ---------------------------------- 28.8/204.1 MB 10.7 MB/s eta 0:00:17\n",
      "   ------ --------------------------------- 31.2/204.1 MB 10.7 MB/s eta 0:00:17\n",
      "   ------ --------------------------------- 33.6/204.1 MB 10.8 MB/s eta 0:00:16\n",
      "   ------- -------------------------------- 36.2/204.1 MB 10.9 MB/s eta 0:00:16\n",
      "   ------- -------------------------------- 38.8/204.1 MB 10.9 MB/s eta 0:00:16\n",
      "   -------- ------------------------------- 40.9/204.1 MB 10.9 MB/s eta 0:00:15\n",
      "   -------- ------------------------------- 43.5/204.1 MB 10.9 MB/s eta 0:00:15\n",
      "   -------- ------------------------------- 45.9/204.1 MB 11.0 MB/s eta 0:00:15\n",
      "   --------- ------------------------------ 48.2/204.1 MB 11.0 MB/s eta 0:00:15\n",
      "   --------- ------------------------------ 50.9/204.1 MB 11.0 MB/s eta 0:00:14\n",
      "   ---------- ----------------------------- 53.2/204.1 MB 11.0 MB/s eta 0:00:14\n",
      "   ---------- ----------------------------- 55.6/204.1 MB 11.0 MB/s eta 0:00:14\n",
      "   ----------- ---------------------------- 58.2/204.1 MB 11.1 MB/s eta 0:00:14\n",
      "   ----------- ---------------------------- 60.6/204.1 MB 11.1 MB/s eta 0:00:13\n",
      "   ------------ --------------------------- 61.9/204.1 MB 10.9 MB/s eta 0:00:14\n",
      "   ------------ --------------------------- 64.0/204.1 MB 10.9 MB/s eta 0:00:13\n",
      "   ------------- -------------------------- 66.6/204.1 MB 10.9 MB/s eta 0:00:13\n",
      "   ------------- -------------------------- 68.9/204.1 MB 11.0 MB/s eta 0:00:13\n",
      "   -------------- ------------------------- 71.6/204.1 MB 11.0 MB/s eta 0:00:13\n",
      "   -------------- ------------------------- 74.2/204.1 MB 11.0 MB/s eta 0:00:12\n",
      "   -------------- ------------------------- 76.3/204.1 MB 11.0 MB/s eta 0:00:12\n",
      "   --------------- ------------------------ 78.6/204.1 MB 11.0 MB/s eta 0:00:12\n",
      "   --------------- ------------------------ 81.3/204.1 MB 11.0 MB/s eta 0:00:12\n",
      "   ---------------- ----------------------- 83.6/204.1 MB 11.0 MB/s eta 0:00:11\n",
      "   ---------------- ----------------------- 86.0/204.1 MB 11.1 MB/s eta 0:00:11\n",
      "   ----------------- ---------------------- 88.6/204.1 MB 11.1 MB/s eta 0:00:11\n",
      "   ----------------- ---------------------- 91.0/204.1 MB 11.1 MB/s eta 0:00:11\n",
      "   ------------------ --------------------- 93.3/204.1 MB 11.1 MB/s eta 0:00:10\n",
      "   ------------------ --------------------- 94.1/204.1 MB 10.9 MB/s eta 0:00:11\n",
      "   ------------------ --------------------- 96.5/204.1 MB 10.9 MB/s eta 0:00:10\n",
      "   ------------------- -------------------- 98.6/204.1 MB 10.9 MB/s eta 0:00:10\n",
      "   ------------------- ------------------- 100.9/204.1 MB 10.9 MB/s eta 0:00:10\n",
      "   ------------------- ------------------- 103.3/204.1 MB 10.9 MB/s eta 0:00:10\n",
      "   -------------------- ------------------ 105.6/204.1 MB 10.9 MB/s eta 0:00:09\n",
      "   -------------------- ------------------ 108.0/204.1 MB 11.0 MB/s eta 0:00:09\n",
      "   --------------------- ----------------- 110.6/204.1 MB 11.0 MB/s eta 0:00:09\n",
      "   --------------------- ----------------- 113.0/204.1 MB 11.0 MB/s eta 0:00:09\n",
      "   ---------------------- ---------------- 115.3/204.1 MB 11.0 MB/s eta 0:00:09\n",
      "   ---------------------- ---------------- 118.0/204.1 MB 11.0 MB/s eta 0:00:08\n",
      "   ---------------------- ---------------- 120.3/204.1 MB 11.0 MB/s eta 0:00:08\n",
      "   ----------------------- --------------- 122.7/204.1 MB 11.0 MB/s eta 0:00:08\n",
      "   ----------------------- --------------- 125.3/204.1 MB 11.0 MB/s eta 0:00:08\n",
      "   ------------------------ -------------- 127.7/204.1 MB 11.0 MB/s eta 0:00:07\n",
      "   ------------------------ -------------- 130.3/204.1 MB 11.0 MB/s eta 0:00:07\n",
      "   ------------------------- ------------- 132.4/204.1 MB 11.0 MB/s eta 0:00:07\n",
      "   ------------------------- ------------- 134.7/204.1 MB 11.1 MB/s eta 0:00:07\n",
      "   -------------------------- ------------ 137.4/204.1 MB 11.1 MB/s eta 0:00:07\n",
      "   -------------------------- ------------ 139.7/204.1 MB 11.1 MB/s eta 0:00:06\n",
      "   --------------------------- ----------- 142.1/204.1 MB 11.1 MB/s eta 0:00:06\n",
      "   --------------------------- ----------- 144.7/204.1 MB 11.1 MB/s eta 0:00:06\n",
      "   ---------------------------- ---------- 147.1/204.1 MB 11.1 MB/s eta 0:00:06\n",
      "   ---------------------------- ---------- 149.4/204.1 MB 11.1 MB/s eta 0:00:05\n",
      "   ----------------------------- --------- 152.0/204.1 MB 11.1 MB/s eta 0:00:05\n",
      "   ----------------------------- --------- 154.4/204.1 MB 11.1 MB/s eta 0:00:05\n",
      "   ----------------------------- --------- 156.8/204.1 MB 11.1 MB/s eta 0:00:05\n",
      "   ------------------------------ -------- 159.1/204.1 MB 11.1 MB/s eta 0:00:05\n",
      "   ------------------------------ -------- 161.5/204.1 MB 11.1 MB/s eta 0:00:04\n",
      "   ------------------------------- ------- 163.8/204.1 MB 11.1 MB/s eta 0:00:04\n",
      "   ------------------------------- ------- 166.2/204.1 MB 11.1 MB/s eta 0:00:04\n",
      "   -------------------------------- ------ 168.3/204.1 MB 11.1 MB/s eta 0:00:04\n",
      "   -------------------------------- ------ 170.7/204.1 MB 11.1 MB/s eta 0:00:04\n",
      "   --------------------------------- ----- 173.0/204.1 MB 11.1 MB/s eta 0:00:03\n",
      "   --------------------------------- ----- 175.4/204.1 MB 11.1 MB/s eta 0:00:03\n",
      "   ---------------------------------- ---- 178.0/204.1 MB 11.1 MB/s eta 0:00:03\n",
      "   ---------------------------------- ---- 180.1/204.1 MB 11.1 MB/s eta 0:00:03\n",
      "   ---------------------------------- ---- 182.7/204.1 MB 11.2 MB/s eta 0:00:02\n",
      "   ----------------------------------- --- 185.1/204.1 MB 11.1 MB/s eta 0:00:02\n",
      "   ----------------------------------- --- 187.7/204.1 MB 11.2 MB/s eta 0:00:02\n",
      "   ------------------------------------ -- 190.1/204.1 MB 11.2 MB/s eta 0:00:02\n",
      "   ------------------------------------ -- 192.2/204.1 MB 11.2 MB/s eta 0:00:02\n",
      "   ------------------------------------- - 194.8/204.1 MB 11.2 MB/s eta 0:00:01\n",
      "   ------------------------------------- - 196.6/204.1 MB 11.2 MB/s eta 0:00:01\n",
      "   ------------------------------------- - 197.4/204.1 MB 11.0 MB/s eta 0:00:01\n",
      "   --------------------------------------  199.2/204.1 MB 11.0 MB/s eta 0:00:01\n",
      "   --------------------------------------  200.5/204.1 MB 11.0 MB/s eta 0:00:01\n",
      "   --------------------------------------  202.4/204.1 MB 11.0 MB/s eta 0:00:01\n",
      "   --------------------------------------  203.9/204.1 MB 10.9 MB/s eta 0:00:01\n",
      "   --------------------------------------  203.9/204.1 MB 10.9 MB/s eta 0:00:01\n",
      "   --------------------------------------- 204.1/204.1 MB 10.7 MB/s eta 0:00:00\n",
      "Downloading sympy-1.13.1-py3-none-any.whl (6.2 MB)\n",
      "   ---------------------------------------- 0.0/6.2 MB ? eta -:--:--\n",
      "   ------------- -------------------------- 2.1/6.2 MB 11.7 MB/s eta 0:00:01\n",
      "   ---------------------------- ----------- 4.5/6.2 MB 11.2 MB/s eta 0:00:01\n",
      "   ---------------------------------------- 6.2/6.2 MB 10.9 MB/s eta 0:00:00\n",
      "Downloading jinja2-3.1.6-py3-none-any.whl (134 kB)\n",
      "Downloading networkx-3.4.2-py3-none-any.whl (1.7 MB)\n",
      "   ---------------------------------------- 0.0/1.7 MB ? eta -:--:--\n",
      "   ---------------------------------------- 1.7/1.7 MB 10.2 MB/s eta 0:00:00\n",
      "Downloading MarkupSafe-3.0.2-cp313-cp313-win_amd64.whl (15 kB)\n",
      "Downloading mpmath-1.3.0-py3-none-any.whl (536 kB)\n",
      "   ---------------------------------------- 0.0/536.2 kB ? eta -:--:--\n",
      "   ---------------------------------------- 536.2/536.2 kB 3.4 MB/s eta 0:00:00\n",
      "Installing collected packages: mpmath, sympy, networkx, MarkupSafe, jinja2, torch\n",
      "Successfully installed MarkupSafe-3.0.2 jinja2-3.1.6 mpmath-1.3.0 networkx-3.4.2 sympy-1.13.1 torch-2.6.0\n",
      "Note: you may need to restart the kernel to use updated packages.\n"
     ]
    },
    {
     "name": "stderr",
     "output_type": "stream",
     "text": [
      "\n",
      "[notice] A new release of pip is available: 24.3.1 -> 25.0.1\n",
      "[notice] To update, run: python.exe -m pip install --upgrade pip\n"
     ]
    }
   ],
   "source": [
    "pip install torch"
   ]
  },
  {
   "cell_type": "code",
   "execution_count": 4,
   "metadata": {},
   "outputs": [
    {
     "name": "stdout",
     "output_type": "stream",
     "text": [
      "Name: transformers\n",
      "Version: 4.49.0\n",
      "Summary: State-of-the-art Machine Learning for JAX, PyTorch and TensorFlow\n",
      "Home-page: https://github.com/huggingface/transformers\n",
      "Author: The Hugging Face team (past and future) with the help of all our contributors (https://github.com/huggingface/transformers/graphs/contributors)\n",
      "Author-email: transformers@huggingface.co\n",
      "License: Apache 2.0 License\n",
      "Location: c:\\Users\\infodea nb510\\AppData\\Local\\Programs\\Python\\Python313\\Lib\\site-packages\n",
      "Requires: filelock, huggingface-hub, numpy, packaging, pyyaml, regex, requests, safetensors, tokenizers, tqdm\n",
      "Required-by: \n",
      "Note: you may need to restart the kernel to use updated packages.\n"
     ]
    }
   ],
   "source": [
    "pip show transformers"
   ]
  },
  {
   "cell_type": "code",
   "execution_count": 6,
   "metadata": {},
   "outputs": [],
   "source": [
    "import site"
   ]
  },
  {
   "cell_type": "code",
   "execution_count": 7,
   "metadata": {},
   "outputs": [
    {
     "name": "stdout",
     "output_type": "stream",
     "text": [
      "['c:\\\\Users\\\\infodea nb510\\\\AppData\\\\Local\\\\Programs\\\\Python\\\\Python313', 'c:\\\\Users\\\\infodea nb510\\\\AppData\\\\Local\\\\Programs\\\\Python\\\\Python313\\\\Lib\\\\site-packages']\n"
     ]
    }
   ],
   "source": [
    "print(site.getsitepackages())"
   ]
  },
  {
   "cell_type": "code",
   "execution_count": null,
   "metadata": {},
   "outputs": [],
   "source": []
  },
  {
   "cell_type": "code",
   "execution_count": 1,
   "metadata": {},
   "outputs": [
    {
     "ename": "ModuleNotFoundError",
     "evalue": "No module named 'transformers'",
     "output_type": "error",
     "traceback": [
      "\u001b[31m---------------------------------------------------------------------------\u001b[39m",
      "\u001b[31mModuleNotFoundError\u001b[39m                       Traceback (most recent call last)",
      "\u001b[36mCell\u001b[39m\u001b[36m \u001b[39m\u001b[32mIn[1]\u001b[39m\u001b[32m, line 1\u001b[39m\n\u001b[32m----> \u001b[39m\u001b[32m1\u001b[39m \u001b[38;5;28;01mfrom\u001b[39;00m\u001b[38;5;250m \u001b[39m\u001b[34;01mtransformers\u001b[39;00m\u001b[38;5;250m \u001b[39m\u001b[38;5;28;01mimport\u001b[39;00m GPTNeoForCausalLM, GPT2Tokenizer\n\u001b[32m      3\u001b[39m \u001b[38;5;66;03m# GPT-Neo 모델과 토크나이저 로드\u001b[39;00m\n\u001b[32m      4\u001b[39m model_name = \u001b[33m\"\u001b[39m\u001b[33mEleutherAI/gpt-neo-1.3B\u001b[39m\u001b[33m\"\u001b[39m  \u001b[38;5;66;03m# 또는 \"EleutherAI/gpt-neo-2.7B\" (더 큰 모델)\u001b[39;00m\n",
      "\u001b[31mModuleNotFoundError\u001b[39m: No module named 'transformers'"
     ]
    }
   ],
   "source": [
    "from transformers import GPTNeoForCausalLM, GPT2Tokenizer\n",
    "\n",
    "# GPT-Neo 모델과 토크나이저 로드\n",
    "model_name = \"EleutherAI/gpt-neo-1.3B\"  # 또는 \"EleutherAI/gpt-neo-2.7B\" (더 큰 모델)\n",
    "\n",
    "model = GPTNeoForCausalLM.from_pretrained(model_name)\n",
    "tokenizer = GPT2Tokenizer.from_pretrained(model_name)\n",
    "\n",
    "# 텍스트 입력\n",
    "input_text = \"Hello, how are you?\"\n",
    "\n",
    "# 텍스트를 토큰화하여 모델에 입력\n",
    "input_ids = tokenizer(input_text, return_tensors=\"pt\").input_ids\n",
    "\n",
    "# 텍스트 생성\n",
    "output = model.generate(input_ids, max_length=50, num_return_sequences=1)\n",
    "\n",
    "# 생성된 텍스트 출력\n",
    "generated_text = tokenizer.decode(output[0], skip_special_tokens=True)\n",
    "print(generated_text)\n"
   ]
  },
  {
   "cell_type": "code",
   "execution_count": null,
   "metadata": {},
   "outputs": [],
   "source": []
  },
  {
   "cell_type": "code",
   "execution_count": null,
   "metadata": {},
   "outputs": [],
   "source": []
  },
  {
   "cell_type": "code",
   "execution_count": null,
   "metadata": {},
   "outputs": [],
   "source": []
  },
  {
   "cell_type": "code",
   "execution_count": null,
   "metadata": {},
   "outputs": [],
   "source": []
  }
 ],
 "metadata": {
  "kernelspec": {
   "display_name": "Python 3",
   "language": "python",
   "name": "python3"
  },
  "language_info": {
   "codemirror_mode": {
    "name": "ipython",
    "version": 3
   },
   "file_extension": ".py",
   "mimetype": "text/x-python",
   "name": "python",
   "nbconvert_exporter": "python",
   "pygments_lexer": "ipython3",
   "version": "3.13.2"
  }
 },
 "nbformat": 4,
 "nbformat_minor": 2
}
